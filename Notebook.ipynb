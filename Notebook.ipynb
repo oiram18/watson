{
    "cells": [
        {
            "metadata": {},
            "cell_type": "code",
            "source": "\nimport types\nimport pandas as pd\nfrom botocore.client import Config\nimport ibm_boto3\n\ndef __iter__(self): return 0\n\n# @hidden_cell\n# The following code accesses a file in your IBM Cloud Object Storage. It includes your credentials.\n# You might want to remove those credentials before you share the notebook.\nclient_da638ebf74ca41f681f1a49cd178d49b = ibm_boto3.client(service_name='s3',\n    ibm_api_key_id='qjF_6OnhotwD568j1J-VYIVer-Srmci9Mxdj9PSQ6waJ',\n    ibm_auth_endpoint=\"https://iam.cloud.ibm.com/oidc/token\",\n    config=Config(signature_version='oauth'),\n    endpoint_url='https://s3.eu-geo.objectstorage.service.networklayer.com')\n\nbody = client_da638ebf74ca41f681f1a49cd178d49b.get_object(Bucket='notebook-donotdelete-pr-aldst1nn71jier',Key='HORARIO.xlsx')['Body']\n# add missing __iter__ method, so pandas accepts body as file-like object\nif not hasattr(body, \"__iter__\"): body.__iter__ = types.MethodType( __iter__, body )\n\ndf_data_0 = pd.read_excel(body)\ndf_data_0.head()\n",
            "execution_count": 2,
            "outputs": [
                {
                    "output_type": "execute_result",
                    "execution_count": 2,
                    "data": {
                        "text/plain": "  Unnamed: 0                           Unnamed: 1 Unnamed: 2 Unnamed: 3  \\\n0        NaN                                  NaN        NaT        NaT   \n1        NaN                                  NaN 2020-09-13 2020-09-14   \n2   10:00:00  despertarme y prepararme + ver algo        NaT        NaT   \n3   11:00:00                            cursillos        NaT        NaT   \n4   12:00:00                                  NaN        NaT        NaT   \n\n  Unnamed: 4 Unnamed: 5 Unnamed: 6 Unnamed: 7 Unnamed: 8 Unnamed: 9  \\\n0        NaT        NaT        NaT        NaT        NaT        NaT   \n1 2020-09-15 2020-09-16 2020-09-17 2020-09-18 2020-09-19 2020-09-20   \n2        NaT        NaT        NaT        NaT        NaT        NaT   \n3        NaT        NaT        NaT        NaT        NaT        NaT   \n4        NaT        NaT        NaT        NaT        NaT        NaT   \n\n  Unnamed: 10 Unnamed: 11 Unnamed: 12 Unnamed: 13 Unnamed: 14 Unnamed: 15  \\\n0         NaT         NaT         NaT         NaT         NaT         NaT   \n1  2020-09-21  2020-09-22  2020-09-23  2020-09-24  2020-09-25  2020-09-26   \n2         NaT         NaT         NaT         NaT         NaT         NaT   \n3         NaT         NaT         NaT         NaT         NaT         NaT   \n4         NaT         NaT         NaT         NaT         NaT         NaT   \n\n  Unnamed: 16 Unnamed: 17 Unnamed: 18  \n0         NaT         NaT         NaT  \n1  2020-09-27  2020-09-28  2020-09-29  \n2         NaT         NaT         NaT  \n3         NaT         NaT         NaT  \n4         NaT         NaT         NaT  ",
                        "text/html": "<div>\n<style scoped>\n    .dataframe tbody tr th:only-of-type {\n        vertical-align: middle;\n    }\n\n    .dataframe tbody tr th {\n        vertical-align: top;\n    }\n\n    .dataframe thead th {\n        text-align: right;\n    }\n</style>\n<table border=\"1\" class=\"dataframe\">\n  <thead>\n    <tr style=\"text-align: right;\">\n      <th></th>\n      <th>Unnamed: 0</th>\n      <th>Unnamed: 1</th>\n      <th>Unnamed: 2</th>\n      <th>Unnamed: 3</th>\n      <th>Unnamed: 4</th>\n      <th>Unnamed: 5</th>\n      <th>Unnamed: 6</th>\n      <th>Unnamed: 7</th>\n      <th>Unnamed: 8</th>\n      <th>Unnamed: 9</th>\n      <th>Unnamed: 10</th>\n      <th>Unnamed: 11</th>\n      <th>Unnamed: 12</th>\n      <th>Unnamed: 13</th>\n      <th>Unnamed: 14</th>\n      <th>Unnamed: 15</th>\n      <th>Unnamed: 16</th>\n      <th>Unnamed: 17</th>\n      <th>Unnamed: 18</th>\n    </tr>\n  </thead>\n  <tbody>\n    <tr>\n      <th>0</th>\n      <td>NaN</td>\n      <td>NaN</td>\n      <td>NaT</td>\n      <td>NaT</td>\n      <td>NaT</td>\n      <td>NaT</td>\n      <td>NaT</td>\n      <td>NaT</td>\n      <td>NaT</td>\n      <td>NaT</td>\n      <td>NaT</td>\n      <td>NaT</td>\n      <td>NaT</td>\n      <td>NaT</td>\n      <td>NaT</td>\n      <td>NaT</td>\n      <td>NaT</td>\n      <td>NaT</td>\n      <td>NaT</td>\n    </tr>\n    <tr>\n      <th>1</th>\n      <td>NaN</td>\n      <td>NaN</td>\n      <td>2020-09-13</td>\n      <td>2020-09-14</td>\n      <td>2020-09-15</td>\n      <td>2020-09-16</td>\n      <td>2020-09-17</td>\n      <td>2020-09-18</td>\n      <td>2020-09-19</td>\n      <td>2020-09-20</td>\n      <td>2020-09-21</td>\n      <td>2020-09-22</td>\n      <td>2020-09-23</td>\n      <td>2020-09-24</td>\n      <td>2020-09-25</td>\n      <td>2020-09-26</td>\n      <td>2020-09-27</td>\n      <td>2020-09-28</td>\n      <td>2020-09-29</td>\n    </tr>\n    <tr>\n      <th>2</th>\n      <td>10:00:00</td>\n      <td>despertarme y prepararme + ver algo</td>\n      <td>NaT</td>\n      <td>NaT</td>\n      <td>NaT</td>\n      <td>NaT</td>\n      <td>NaT</td>\n      <td>NaT</td>\n      <td>NaT</td>\n      <td>NaT</td>\n      <td>NaT</td>\n      <td>NaT</td>\n      <td>NaT</td>\n      <td>NaT</td>\n      <td>NaT</td>\n      <td>NaT</td>\n      <td>NaT</td>\n      <td>NaT</td>\n      <td>NaT</td>\n    </tr>\n    <tr>\n      <th>3</th>\n      <td>11:00:00</td>\n      <td>cursillos</td>\n      <td>NaT</td>\n      <td>NaT</td>\n      <td>NaT</td>\n      <td>NaT</td>\n      <td>NaT</td>\n      <td>NaT</td>\n      <td>NaT</td>\n      <td>NaT</td>\n      <td>NaT</td>\n      <td>NaT</td>\n      <td>NaT</td>\n      <td>NaT</td>\n      <td>NaT</td>\n      <td>NaT</td>\n      <td>NaT</td>\n      <td>NaT</td>\n      <td>NaT</td>\n    </tr>\n    <tr>\n      <th>4</th>\n      <td>12:00:00</td>\n      <td>NaN</td>\n      <td>NaT</td>\n      <td>NaT</td>\n      <td>NaT</td>\n      <td>NaT</td>\n      <td>NaT</td>\n      <td>NaT</td>\n      <td>NaT</td>\n      <td>NaT</td>\n      <td>NaT</td>\n      <td>NaT</td>\n      <td>NaT</td>\n      <td>NaT</td>\n      <td>NaT</td>\n      <td>NaT</td>\n      <td>NaT</td>\n      <td>NaT</td>\n      <td>NaT</td>\n    </tr>\n  </tbody>\n</table>\n</div>"
                    },
                    "metadata": {}
                }
            ]
        },
        {
            "metadata": {},
            "cell_type": "code",
            "source": "",
            "execution_count": null,
            "outputs": []
        }
    ],
    "metadata": {
        "kernelspec": {
            "name": "python3",
            "display_name": "Python 3.6",
            "language": "python"
        },
        "language_info": {
            "name": "python",
            "version": "3.6.9",
            "mimetype": "text/x-python",
            "codemirror_mode": {
                "name": "ipython",
                "version": 3
            },
            "pygments_lexer": "ipython3",
            "nbconvert_exporter": "python",
            "file_extension": ".py"
        }
    },
    "nbformat": 4,
    "nbformat_minor": 1
}